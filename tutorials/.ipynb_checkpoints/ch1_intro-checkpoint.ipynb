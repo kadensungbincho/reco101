{
 "cells": [
  {
   "cell_type": "markdown",
   "id": "f61bba09-d47e-4309-92c2-89cfad06d4cc",
   "metadata": {},
   "source": [
    "# 1. Intro\n",
    "\n",
    "- What is Recommender Systems?\n",
    "    - A computer program that recommend the \"best\" items to users in different contexts\n",
    "    - A notion of a best match is typically obtained by optimizing for objective metrics like 'clicks', 'impression', 'GMV', 'CP', etc\n",
    "\n",
    "## 1.1 Overview of recommender systems for web services\n",
    "- input 'signals'\n",
    "    - what we know about items\n",
    "    - what we know about users\n",
    "        - user profiles\n",
    "    - how users interacted with items\n",
    "        - clickstream events\n",
    "- processing\n",
    "    - algorithmic techniques\n",
    "- output 'objectives' & 'metrics'\n",
    "    -  objectives: push vs pull\n",
    "        - pull: retrieving items that are relevant to the explicit information needs of the user, normally related to the sub-topic 'search'\n",
    "        - push: show the items that is likely to engage users, primary focus of 'recommendation'\n",
    "    - metrics\n",
    "        - click, impression, gmv, purchase(usage) per 1000 impressions, cp\n",
    "- pitfalls\n",
    "    - cold start \n",
    "    - explore & exploit\n",
    "## 1.2 Simple recommender"
   ]
  },
  {
   "cell_type": "markdown",
   "id": "19217d68-f6a6-4f57-b2d7-4eb4d021b7e8",
   "metadata": {},
   "source": [
    "# 2. Classic Methods\n",
    "## 2.1 Item Characterization"
   ]
  },
  {
   "cell_type": "markdown",
   "id": "5d80f410-4d5b-4f22-8154-61d390c1610b",
   "metadata": {},
   "source": [
    "# 3. Explore-Exploit\n",
    "# 4. Evaluation Methods\n",
    "## 4.4 Offline replay\n",
    "- https://github.com/sb-ai-lab/RePlay"
   ]
  },
  {
   "cell_type": "markdown",
   "id": "c5ee1d88-4f8b-40d7-b14c-6c9d7e5a34f0",
   "metadata": {},
   "source": [
    "- Simliarity\n",
    "    - significance weighting: The discount factor kicks in when the number of common ratings between the two users is less than a particular threshold B\n",
    "\n",
    "  "
   ]
  },
  {
   "cell_type": "markdown",
   "id": "bb13512b-3b98-46c1-8367-3c30d99b0eb3",
   "metadata": {},
   "source": [
    "# Recommender systems\n"
   ]
  },
  {
   "cell_type": "code",
   "execution_count": 1,
   "id": "ba20a0ce-2b39-4cb0-9761-fea7e2260812",
   "metadata": {},
   "outputs": [],
   "source": [
    "ratings = [\n",
    "    [7, 6, 7, 4, 5, 4],\n",
    "    [6, 7, None, 4, 3, 4],\n",
    "    [None, 3, 3, 1, 1, None],\n",
    "    [1, 2, 2, 3, 3, 4],\n",
    "    [1, None, 1, 2, 3, 3]\n",
    "]"
   ]
  },
  {
   "cell_type": "code",
   "execution_count": 4,
   "id": "4d1350ca-e95d-43d1-b7b6-fe75ae2018b8",
   "metadata": {},
   "outputs": [],
   "source": [
    "def filter_out_none(l):\n",
    "    return [x for x in l if x is not None]"
   ]
  },
  {
   "cell_type": "code",
   "execution_count": 6,
   "id": "2a3a500e-126a-459f-bf78-f258437aa448",
   "metadata": {},
   "outputs": [
    {
     "data": {
      "text/plain": [
       "[5.5, 4.8, 2.0, 2.5, 2.0]"
      ]
     },
     "execution_count": 6,
     "metadata": {},
     "output_type": "execute_result"
    }
   ],
   "source": [
    "means = [sum(filter_out_none(x))/len(filter_out_none(x)) for x in ratings]\n",
    "means"
   ]
  },
  {
   "cell_type": "code",
   "execution_count": 41,
   "id": "1b15d909-d65e-48a9-a852-a78f79577d3b",
   "metadata": {},
   "outputs": [],
   "source": [
    "def filter_both_exist(a, b):\n",
    "    f_a = []\n",
    "    f_b = []\n",
    "    for i in range(0, len(a)):\n",
    "        if a[i] is not None and b[i] is not None:\n",
    "            f_a.append(a[i])\n",
    "            f_b.append(b[i])\n",
    "    return f_a, f_b\n",
    "\n",
    "def calculate_pearson(a, b, m_a, m_b):\n",
    "    numerator = sum([(x-m_a)*(y-m_b) for x, y in zip(a, b)])\n",
    "    denominator = sum([(x-m_a)**2 for x in a]) ** (1/2) * sum([(x-m_b)**2 for x in b]) ** (1/2)\n",
    "    # print(f\"numerator: {numerator}\")\n",
    "    # print(f\"denominator: {denominator}\")\n",
    "\n",
    "    return numerator / denominator\n",
    "\n",
    "\n",
    "def calculate_cosine(a, b):\n",
    "    numerator = sum([(x)*(y) for x, y in zip(a, b)])\n",
    "    denominator = sum([(x)**2 for x in a]) ** (1/2) * sum([(x)**2 for x in b]) ** (1/2)\n",
    "\n",
    "    return numerator / denominator\n",
    " \n",
    "    "
   ]
  },
  {
   "cell_type": "code",
   "execution_count": 43,
   "id": "b46401af-9229-47bf-97f2-42e8aaccb164",
   "metadata": {},
   "outputs": [
    {
     "name": "stdout",
     "output_type": "stream",
     "text": [
      "pearson: 0 to 2 0.8944271909999159\n",
      "pearson: 1 to 2 0.9384742644069303\n",
      "pearson: 2 to 2 1.0\n",
      "pearson: 3 to 2 -1.0\n",
      "pearson: 4 to 2 -0.8164965809277259\n",
      "\n",
      "cosine: 0 to 2 0.9561828874675148\n",
      "cosine: 1 to 2 0.9813994921258943\n",
      "cosine: 2 to 2 0.9999999999999998\n",
      "cosine: 3 to 2 0.7893522173763263\n",
      "cosine: 4 to 2 0.6446583712203042\n"
     ]
    }
   ],
   "source": [
    "for i in range(0, len(ratings)):\n",
    "    pearson = calculate_pearson(*filter_both_exist(ratings[i], ratings[2]), means[i], means[2])\n",
    "    print(f\"pearson: {i} to {2} {pearson}\")\n",
    "\n",
    "print() \n",
    "\n",
    "for i in range(0, len(ratings)):\n",
    "    cosine = calculate_cosine(*filter_both_exist(ratings[i], ratings[2]))\n",
    "    print(f\"cosine: {i} to {2} {cosine}\")\n",
    "    "
   ]
  },
  {
   "cell_type": "code",
   "execution_count": 35,
   "id": "a9616000-3df7-45b8-b785-3a3a1e50c40c",
   "metadata": {},
   "outputs": [
    {
     "data": {
      "text/plain": [
       "2.6457513110645907"
      ]
     },
     "execution_count": 35,
     "metadata": {},
     "output_type": "execute_result"
    }
   ],
   "source": [
    "(1.5**2 + 1.5 ** 2+ 1.5 ** 2 + 0.5 ** 2) ** (1/2)"
   ]
  },
  {
   "cell_type": "code",
   "execution_count": 34,
   "id": "db51bad0-2ad7-474b-965d-1cd9c48cb1c2",
   "metadata": {},
   "outputs": [
    {
     "data": {
      "text/plain": [
       "2.25"
      ]
     },
     "execution_count": 34,
     "metadata": {},
     "output_type": "execute_result"
    }
   ],
   "source": [
    "1.5 ** 2"
   ]
  },
  {
   "cell_type": "code",
   "execution_count": 44,
   "id": "bef4e7ea-6be9-4e46-a352-e76bbaec059d",
   "metadata": {},
   "outputs": [
    {
     "name": "stdout",
     "output_type": "stream",
     "text": [
      "6.48772504091653\n"
     ]
    }
   ],
   "source": [
    "r_hat_31 = (7 * 0.894 + 6 * 0.939) / (0.894 + 0.939)\n",
    "print(r_hat_31)"
   ]
  },
  {
   "cell_type": "code",
   "execution_count": 45,
   "id": "3a8ec52f-aad9-4cbd-93c2-b4cad9ab2017",
   "metadata": {},
   "outputs": [
    {
     "name": "stdout",
     "output_type": "stream",
     "text": [
      "4.0\n"
     ]
    }
   ],
   "source": [
    "r_hat_36 = (4 * 0.894 + 4 * 0.939) / (0.894 + 0.939)\n",
    "print(r_hat_36)"
   ]
  },
  {
   "cell_type": "code",
   "execution_count": 46,
   "id": "1b55a176-04cd-4289-bde4-7196d1572295",
   "metadata": {},
   "outputs": [
    {
     "name": "stdout",
     "output_type": "stream",
     "text": [
      "3.346317512274959\n"
     ]
    }
   ],
   "source": [
    "# mean-centered\n",
    "r_hat_31 = 2 + (1.5 * 0.894 + 1.2 * 0.939) / (0.894 + 0.939)\n",
    "print(r_hat_31)"
   ]
  },
  {
   "cell_type": "code",
   "execution_count": 51,
   "id": "45824933-897f-47d4-857f-f1d95f4638de",
   "metadata": {},
   "outputs": [
    {
     "data": {
      "text/plain": [
       "[[1.5, 0.5, 1.5, -1.5, -0.5, -1.5],\n",
       " [1.2000000000000002,\n",
       "  2.2,\n",
       "  None,\n",
       "  -0.7999999999999998,\n",
       "  -1.7999999999999998,\n",
       "  -0.7999999999999998],\n",
       " [None, 1.0, 1.0, -1.0, -1.0, None],\n",
       " [-1.5, -0.5, -0.5, 0.5, 0.5, 1.5],\n",
       " [-1.0, None, -1.0, 0.0, 1.0, 1.0]]"
      ]
     },
     "execution_count": 51,
     "metadata": {},
     "output_type": "execute_result"
    }
   ],
   "source": [
    "adjusted_ratings = [[e - means[idx] if e is not None else None for e in r ] for idx, r in enumerate(ratings)]\n",
    "adjusted_ratings"
   ]
  },
  {
   "cell_type": "code",
   "execution_count": 54,
   "id": "267b3023-79e4-4d72-a1a0-13c309d864b0",
   "metadata": {},
   "outputs": [
    {
     "data": {
      "text/plain": [
       "0.9116846116771036"
      ]
     },
     "execution_count": 54,
     "metadata": {},
     "output_type": "execute_result"
    }
   ],
   "source": [
    "item_1 = [r[0] for r in adjusted_ratings]\n",
    "item_3 = [r[2] for r in adjusted_ratings]\n",
    "calculate_cosine(*filter_both_exist(item_1, item_3))"
   ]
  },
  {
   "cell_type": "markdown",
   "id": "cc964a66-1ed5-4bfe-9abf-8ce17689d230",
   "metadata": {},
   "source": [
    "- SVD: https://www.youtube.com/watch?v=xy3QyyhiuY4\n"
   ]
  },
  {
   "cell_type": "code",
   "execution_count": 55,
   "id": "4a79adea-c003-4b39-b987-beeb468ef780",
   "metadata": {},
   "outputs": [],
   "source": [
    "ratings = [\n",
    "    [1, 1, 1],\n",
    "    [7, 7, 7],\n",
    "    [3, 1, 1],\n",
    "    [5, 7, 7],\n",
    "    [3, 1, None],\n",
    "    [5, 7, None],\n",
    "    [3, 1, None],\n",
    "    [5, 7, None],\n",
    "    [3, 1, None],\n",
    "    [5, 7, None],\n",
    "    [3, 1, None],\n",
    "    [5, 7, None]\n",
    "]"
   ]
  },
  {
   "cell_type": "code",
   "execution_count": 57,
   "id": "70d762d4-0cbd-4d11-ac3a-f914ec49d5a0",
   "metadata": {},
   "outputs": [
    {
     "name": "stdout",
     "output_type": "stream",
     "text": [
      "0 - mean : 4.0\n",
      "1 - mean : 4.0\n",
      "2 - mean : 4.0\n"
     ]
    }
   ],
   "source": [
    "for i in range(3):\n",
    "    s = 0\n",
    "    cnt = 0\n",
    "    for j in range(12):\n",
    "        if ratings[j][i] is not None:\n",
    "            s += ratings[j][i]\n",
    "            cnt += 1\n",
    "    print(f\"{i} - mean : {s / cnt}\")"
   ]
  },
  {
   "cell_type": "code",
   "execution_count": 62,
   "id": "c02ce267-6670-4897-85e4-372ba0fe6fba",
   "metadata": {},
   "outputs": [
    {
     "data": {
      "text/plain": [
       "[[1, 1, 1],\n",
       " [7, 7, 7],\n",
       " [3, 1, 1],\n",
       " [5, 7, 7],\n",
       " [3, 1, 4.0],\n",
       " [5, 7, 4.0],\n",
       " [3, 1, 4.0],\n",
       " [5, 7, 4.0],\n",
       " [3, 1, 4.0],\n",
       " [5, 7, 4.0],\n",
       " [3, 1, 4.0],\n",
       " [5, 7, 4.0]]"
      ]
     },
     "execution_count": 62,
     "metadata": {},
     "output_type": "execute_result"
    }
   ],
   "source": [
    "filled_ratings = [[e if e is not None else 4.0 for e in ratings[idx]] for idx, x in enumerate(ratings)]\n",
    "filled_ratings"
   ]
  },
  {
   "cell_type": "code",
   "execution_count": 64,
   "id": "c687bee4-18c7-43cd-a017-16572e589ecb",
   "metadata": {},
   "outputs": [
    {
     "data": {
      "text/plain": [
       "array([[2.54545455, 4.36363636, 2.18181818],\n",
       "       [4.36363636, 9.81818182, 3.27272727],\n",
       "       [2.18181818, 3.27272727, 3.27272727]])"
      ]
     },
     "execution_count": 64,
     "metadata": {},
     "output_type": "execute_result"
    }
   ],
   "source": [
    "import numpy as np\n",
    "x = np.array(filled_ratings).T\n",
    "np.cov(x)"
   ]
  },
  {
   "cell_type": "code",
   "execution_count": 67,
   "id": "6418fa43-bc34-447a-a544-4449d79fe430",
   "metadata": {},
   "outputs": [
    {
     "data": {
      "text/plain": [
       "array([[ 6.66666667,  8.        ,  8.        ],\n",
       "       [ 8.        , 12.        , 12.        ],\n",
       "       [ 8.        , 12.        , 12.        ]])"
      ]
     },
     "execution_count": 67,
     "metadata": {},
     "output_type": "execute_result"
    }
   ],
   "source": [
    "none_filtered_ratings = [x for x in ratings if x[0] is not None and x[1] is not None and x[2] is not None]\n",
    "x = np.array(none_filtered_ratings).T\n",
    "np.cov(x)"
   ]
  },
  {
   "cell_type": "code",
   "execution_count": 68,
   "id": "bc47adca-9e6c-43c2-8426-34c69544bc58",
   "metadata": {},
   "outputs": [
    {
     "data": {
      "text/plain": [
       "[[1, 1, 1], [7, 7, 7], [3, 1, 1], [5, 7, 7]]"
      ]
     },
     "execution_count": 68,
     "metadata": {},
     "output_type": "execute_result"
    }
   ],
   "source": [
    "none_filtered_ratings"
   ]
  },
  {
   "cell_type": "code",
   "execution_count": null,
   "id": "bcd6611f-31ac-4a90-8ea6-183f935a53df",
   "metadata": {},
   "outputs": [],
   "source": []
  }
 ],
 "metadata": {
  "kernelspec": {
   "display_name": "Python 3 (ipykernel)",
   "language": "python",
   "name": "python3"
  },
  "language_info": {
   "codemirror_mode": {
    "name": "ipython",
    "version": 3
   },
   "file_extension": ".py",
   "mimetype": "text/x-python",
   "name": "python",
   "nbconvert_exporter": "python",
   "pygments_lexer": "ipython3",
   "version": "3.12.7"
  }
 },
 "nbformat": 4,
 "nbformat_minor": 5
}
